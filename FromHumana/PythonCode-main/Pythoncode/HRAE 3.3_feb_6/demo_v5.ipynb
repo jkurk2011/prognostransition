{
 "cells": [
  {
   "cell_type": "code",
   "execution_count": 1,
   "metadata": {},
   "outputs": [
    {
     "name": "stderr",
     "output_type": "stream",
     "text": [
      "/home/nhp1343/.local/lib/python3.6/site-packages/sklearn/externals/joblib/__init__.py:15: FutureWarning: sklearn.externals.joblib is deprecated in 0.21 and will be removed in 0.23. Please import this functionality directly from joblib, which can be installed with: pip install joblib. If this warning is raised when loading pickled models, you may need to re-serialize those models with scikit-learn 0.21+.\n",
      "  warnings.warn(msg, category=FutureWarning)\n"
     ]
    }
   ],
   "source": [
    "import numpy as np\n",
    "from numpy import isnan, log\n",
    "from numpy import log\n",
    "from numpy import isnan\n",
    "\n",
    "import pandas as pd\n",
    "from pandas import datetime\n",
    "from dateutil.relativedelta import relativedelta\n",
    "\n",
    "import time\n",
    "import os \n",
    "import datetime\n",
    "from datetime import date\n",
    "import xgboost as xgb\n",
    "import lightgbm\n",
    "import matplotlib.pyplot as plt\n",
    "import math\n",
    "\n",
    "\n",
    "from sklearn.preprocessing import StandardScaler\n",
    "from sklearn.linear_model import LinearRegression\n",
    "from sklearn.feature_extraction.text import TfidfVectorizer, CountVectorizer\n",
    "from sklearn.metrics import mean_squared_error\n",
    "from sklearn.metrics import mean_absolute_error\n",
    "from sklearn.metrics import r2_score\n",
    "from sklearn.externals import joblib \n",
    "\n",
    "import statsmodels.api as sm\n",
    "from statsmodels.sandbox.regression.predstd import wls_prediction_std \n",
    "from statsmodels.discrete.discrete_model import Poisson\n",
    "\n",
    "import sqlite3\n",
    "import pandasql\n",
    "\n",
    "from pandasql import sqldf\n",
    "pyqldf = lambda q: sqldf(q, globals())\n",
    "import seaborn as sns\n",
    "import pickle\n",
    "\n",
    "import warnings\n",
    "warnings.filterwarnings('ignore')\n"
   ]
  },
  {
   "cell_type": "code",
   "execution_count": 2,
   "metadata": {},
   "outputs": [],
   "source": [
    "#set directory path \n",
    "os.chdir ('/advanalytics/yxy3512/HRAE/IQVIA/final_scoreprogram') #needed for %run statements\n",
    "datapath = '/advanalytics/pgk0233/IQVIA_20.06_dontchange/inputdata/' #fetch raw input data from IQVIA or HRAE submission\n",
    "modelpath = '/advanalytics/pgk0233/IQVIA_20.06_dontchange/modelobjects/' # fetch save model \n",
    "scorepath = '/home/nhp1343/EPAM_Final_code/output/' # location to save output tables \n",
    "mappath = '/advanalytics/pgk0233/mappingfiles/'  # fetch lookup tables for the medical/rx recording \n",
    "mappath1='/home/exj5730/HRAE/'\n",
    "#set directory path \n",
    "\n",
    "DATA_PATH = '/home/exj5730/HRAE/'\n",
    "CLAIMS_PATH = os.path.join(DATA_PATH, 'Completed/')\n",
    "CENSUS_PATH = os.path.join(DATA_PATH, 'IQVIACensusFiles/')\n",
    "#CENSUS_PATH = '/advanalytics/pgk0233/IQVIA_20.06_dontchange/Data'\n",
    "\n",
    "#HRAE_PATH = '/home/nhp1343/EPAM_Final_code/claims_factors_and_newborn_claims/hrae_legacy/final_production_it_code/'"
   ]
  },
  {
   "cell_type": "code",
   "execution_count": 3,
   "metadata": {},
   "outputs": [],
   "source": [
    "                    \n",
    "meddcoverride = 0\n",
    "meddcoverrideamt = 10000\n",
    "# meddcoverrideamt = 0\n",
    "\n",
    "rxdcoverride = 0\n",
    "rxdcoverrideamt = 1000\n",
    "# rxdcoverrideamt = 0\n",
    "\n",
    "first_interval = 3\n",
    "\n",
    "keep_i = True\n",
    "keep_o = True\n",
    "keep_r = True\n"
   ]
  },
  {
   "cell_type": "code",
   "execution_count": 4,
   "metadata": {},
   "outputs": [],
   "source": [
    "import sys\n",
    "sys.path.insert(0, \"../../..\")"
   ]
  },
  {
   "cell_type": "code",
   "execution_count": 5,
   "metadata": {},
   "outputs": [],
   "source": [
    "#group = \"S02DG8_354411\" #no rev, no newborn\n",
    "#group = \"S02DAY_354300\"\n",
    "#group = 'S02D88_354264'\n",
    "group = 'S02D6A_354241'\n",
    "#group = 'S02DC3_354321'\n",
    "#group = '20201231_IQVIAPOC'\n",
    "#features_for_explanation.keys()"
   ]
  },
  {
   "cell_type": "code",
   "execution_count": 6,
   "metadata": {},
   "outputs": [],
   "source": [
    "dx_filename = group + \"_DX.txt\"\n",
    "rx_filename = group + \"_RX.txt\"\n",
    "submit_filename = \"AccountManager_\" + group + \"_IQVIA240_CensusFile.txt\"\n",
    "#submit_filename = \"20201231_IQVIA_poc2021q1.txt\""
   ]
  },
  {
   "cell_type": "code",
   "execution_count": null,
   "metadata": {},
   "outputs": [],
   "source": []
  },
  {
   "cell_type": "code",
   "execution_count": 7,
   "metadata": {
    "scrolled": true
   },
   "outputs": [
    {
     "name": "stdout",
     "output_type": "stream",
     "text": [
      "[17:52:56] WARNING: /root/xgboost/src/objective/regression_obj.cu:152: reg:linear is now deprecated in favor of reg:squarederror.\n",
      "[17:52:56] WARNING: /root/xgboost/src/objective/regression_obj.cu:152: reg:linear is now deprecated in favor of reg:squarederror.\n",
      "[17:52:56] WARNING: /root/xgboost/src/objective/regression_obj.cu:152: reg:linear is now deprecated in favor of reg:squarederror.\n",
      "[17:52:56] WARNING: /root/xgboost/src/objective/regression_obj.cu:152: reg:linear is now deprecated in favor of reg:squarederror.\n",
      "[17:52:56] WARNING: /root/xgboost/src/objective/regression_obj.cu:152: reg:linear is now deprecated in favor of reg:squarederror.\n",
      "[17:52:58] WARNING: /root/xgboost/src/objective/regression_obj.cu:152: reg:linear is now deprecated in favor of reg:squarederror.\n",
      "  src_rpt_cust_id underwriting_date   any_xox  any_ixx   any_xxr   any_ior  pfm_calibrated   pred_risk  risk_pfm  rx_debit_rs  med_debit_rs\n",
      "0          S02D6A        2021-02-06  0.662791      0.5  0.732558  0.837209      315.429727  749.524109    2.3762     0.396285           0.0\n"
     ]
    }
   ],
   "source": [
    "%run -i /home/exj5730/HRAE/score_drg_iqvia.py"
   ]
  },
  {
   "cell_type": "code",
   "execution_count": 8,
   "metadata": {},
   "outputs": [
    {
     "data": {
      "text/plain": [
       "86"
      ]
     },
     "execution_count": 8,
     "metadata": {},
     "output_type": "execute_result"
    }
   ],
   "source": [
    "len(iqsubmit)"
   ]
  },
  {
   "cell_type": "code",
   "execution_count": 9,
   "metadata": {},
   "outputs": [
    {
     "data": {
      "text/plain": [
       "86"
      ]
     },
     "execution_count": 9,
     "metadata": {},
     "output_type": "execute_result"
    }
   ],
   "source": [
    "len(iqsubmit)"
   ]
  },
  {
   "cell_type": "code",
   "execution_count": 43,
   "metadata": {},
   "outputs": [],
   "source": [
    "%run -i /home/nhp1343/elliott-feb_2/cost_driver_method_loader_v6.py"
   ]
  },
  {
   "cell_type": "markdown",
   "metadata": {},
   "source": [
    "# Smart Specialty Table"
   ]
  },
  {
   "cell_type": "code",
   "execution_count": 11,
   "metadata": {},
   "outputs": [],
   "source": [
    "try:\n",
    "    if len(iqsubmit)>=10:\n",
    "        smart_specialty_table = get_smart_specialty_table(iqsubmit, cust, cust_pred, \n",
    "                                                  qtr_rxdeb, qtr_meddeb, hrdl_debits_clean)\n",
    "    \n",
    "except:\n",
    "  print(\"Unable to Generate Smart Specialy Table: No Prescription Data Available \")\n",
    "\n",
    "\n",
    "\n"
   ]
  },
  {
   "cell_type": "code",
   "execution_count": 12,
   "metadata": {},
   "outputs": [
    {
     "data": {
      "text/html": [
       "<div>\n",
       "<style scoped>\n",
       "    .dataframe tbody tr th:only-of-type {\n",
       "        vertical-align: middle;\n",
       "    }\n",
       "\n",
       "    .dataframe tbody tr th {\n",
       "        vertical-align: top;\n",
       "    }\n",
       "\n",
       "    .dataframe thead th {\n",
       "        text-align: right;\n",
       "    }\n",
       "</style>\n",
       "<table border=\"1\" class=\"dataframe\">\n",
       "  <thead>\n",
       "    <tr style=\"text-align: right;\">\n",
       "      <th></th>\n",
       "      <th>Drug Name</th>\n",
       "      <th>When Last Detected</th>\n",
       "      <th>Assumed Annual Cost of Use</th>\n",
       "      <th>Estimated Impact to Group Score</th>\n",
       "    </tr>\n",
       "  </thead>\n",
       "  <tbody>\n",
       "    <tr>\n",
       "      <th>0</th>\n",
       "      <td>TECENTRIQ</td>\n",
       "      <td>4-12 Months to UW</td>\n",
       "      <td>64500.0</td>\n",
       "      <td>0.1981</td>\n",
       "    </tr>\n",
       "    <tr>\n",
       "      <th>1</th>\n",
       "      <td>VELCADE</td>\n",
       "      <td>4-12 Months to UW</td>\n",
       "      <td>19350.0</td>\n",
       "      <td>0.0594</td>\n",
       "    </tr>\n",
       "    <tr>\n",
       "      <th>2</th>\n",
       "      <td>BANZEL</td>\n",
       "      <td>4-12 Months to UW</td>\n",
       "      <td>15480.0</td>\n",
       "      <td>0.0476</td>\n",
       "    </tr>\n",
       "    <tr>\n",
       "      <th>3</th>\n",
       "      <td>HUMALOG</td>\n",
       "      <td>4-12 Months to UW</td>\n",
       "      <td>9030.0</td>\n",
       "      <td>0.0277</td>\n",
       "    </tr>\n",
       "    <tr>\n",
       "      <th>4</th>\n",
       "      <td>VRAYLAR</td>\n",
       "      <td>4-12 Months to UW</td>\n",
       "      <td>7740.0</td>\n",
       "      <td>0.0238</td>\n",
       "    </tr>\n",
       "    <tr>\n",
       "      <th>5</th>\n",
       "      <td>ONFI</td>\n",
       "      <td>4-12 Months to UW</td>\n",
       "      <td>6450.0</td>\n",
       "      <td>0.0198</td>\n",
       "    </tr>\n",
       "    <tr>\n",
       "      <th>6</th>\n",
       "      <td>PROCRIT</td>\n",
       "      <td>4-12 Months to UW</td>\n",
       "      <td>3999.0</td>\n",
       "      <td>0.0123</td>\n",
       "    </tr>\n",
       "    <tr>\n",
       "      <th>7</th>\n",
       "      <td>TRULICITY</td>\n",
       "      <td>4-12 Months to UW</td>\n",
       "      <td>2064.0</td>\n",
       "      <td>0.0063</td>\n",
       "    </tr>\n",
       "    <tr>\n",
       "      <th>8</th>\n",
       "      <td>TRULICITY</td>\n",
       "      <td>4-12 Months to UW</td>\n",
       "      <td>2064.0</td>\n",
       "      <td>0.0063</td>\n",
       "    </tr>\n",
       "    <tr>\n",
       "      <th>12</th>\n",
       "      <td>TRUVADA</td>\n",
       "      <td>13+ Months to UW</td>\n",
       "      <td>20640.0</td>\n",
       "      <td>Lower/Not Detected Recently</td>\n",
       "    </tr>\n",
       "    <tr>\n",
       "      <th>13</th>\n",
       "      <td>NEULASTA</td>\n",
       "      <td>13+ Months to UW</td>\n",
       "      <td>14190.0</td>\n",
       "      <td>Lower/Not Detected Recently</td>\n",
       "    </tr>\n",
       "    <tr>\n",
       "      <th>14</th>\n",
       "      <td>ISENTRESS</td>\n",
       "      <td>13+ Months to UW</td>\n",
       "      <td>11610.0</td>\n",
       "      <td>Lower/Not Detected Recently</td>\n",
       "    </tr>\n",
       "    <tr>\n",
       "      <th>15</th>\n",
       "      <td>NOVOLOG</td>\n",
       "      <td>13+ Months to UW</td>\n",
       "      <td>9030.0</td>\n",
       "      <td>Lower/Not Detected Recently</td>\n",
       "    </tr>\n",
       "    <tr>\n",
       "      <th>16</th>\n",
       "      <td>TOPOSAR</td>\n",
       "      <td>13+ Months to UW</td>\n",
       "      <td>1290.0</td>\n",
       "      <td>Lower/Not Detected Recently</td>\n",
       "    </tr>\n",
       "  </tbody>\n",
       "</table>\n",
       "</div>"
      ],
      "text/plain": [
       "    Drug Name When Last Detected  Assumed Annual Cost of Use Estimated Impact to Group Score\n",
       "0   TECENTRIQ  4-12 Months to UW                     64500.0                          0.1981\n",
       "1     VELCADE  4-12 Months to UW                     19350.0                          0.0594\n",
       "2      BANZEL  4-12 Months to UW                     15480.0                          0.0476\n",
       "3     HUMALOG  4-12 Months to UW                      9030.0                          0.0277\n",
       "4     VRAYLAR  4-12 Months to UW                      7740.0                          0.0238\n",
       "5        ONFI  4-12 Months to UW                      6450.0                          0.0198\n",
       "6     PROCRIT  4-12 Months to UW                      3999.0                          0.0123\n",
       "7   TRULICITY  4-12 Months to UW                      2064.0                          0.0063\n",
       "8   TRULICITY  4-12 Months to UW                      2064.0                          0.0063\n",
       "12    TRUVADA   13+ Months to UW                     20640.0     Lower/Not Detected Recently\n",
       "13   NEULASTA   13+ Months to UW                     14190.0     Lower/Not Detected Recently\n",
       "14  ISENTRESS   13+ Months to UW                     11610.0     Lower/Not Detected Recently\n",
       "15    NOVOLOG   13+ Months to UW                      9030.0     Lower/Not Detected Recently\n",
       "16    TOPOSAR   13+ Months to UW                      1290.0     Lower/Not Detected Recently"
      ]
     },
     "execution_count": 12,
     "metadata": {},
     "output_type": "execute_result"
    }
   ],
   "source": [
    "smart_specialty_table"
   ]
  },
  {
   "cell_type": "markdown",
   "metadata": {},
   "source": [
    "# Detected High-Cost Conditions (Diagnosis) Table"
   ]
  },
  {
   "cell_type": "code",
   "execution_count": 13,
   "metadata": {},
   "outputs": [
    {
     "name": "stdout",
     "output_type": "stream",
     "text": [
      "Unable to Generate High Cost Conditions Table: No Diagnosis Data Available \n"
     ]
    }
   ],
   "source": [
    "try:\n",
    "    if len(iqsubmit)>=10:\n",
    "        smart_diagnosis_table = get_smart_diagnosis_table(iqsubmit, medvertdta, qtr_meddta,\n",
    "                                                  iq_cptvert, iq_revvert, icd09lookup, icd10lookup, debjoin3,\n",
    "                                                  features_for_explanation, predictions_all, cust_pred)\n",
    " \n",
    "\n",
    "except:\n",
    "  print(\"Unable to Generate High Cost Conditions Table: No Diagnosis Data Available \")\n"
   ]
  },
  {
   "cell_type": "markdown",
   "metadata": {},
   "source": [
    "# Imminent Treatment Table"
   ]
  },
  {
   "cell_type": "code",
   "execution_count": 32,
   "metadata": {
    "scrolled": true
   },
   "outputs": [],
   "source": [
    "try:\n",
    "    smart_diagnosis = read_smart_diagnosis_rules(os.path.join(DATA_PATH, \"Smart Diagnosis v3.csv\"))\n",
    "    smart_diagnosis_filtered = filter_smart_diagnosis_table(smart_diagnosis, iqsubmit)\n",
    "    member_newborn_claims = predict_member_newborn_claims(rawmeddta, \n",
    "                                                          cust, \n",
    "                                                          iqsubmit, \n",
    "                                                          smart_diagnosis_filtered,\n",
    "                                                          weight_partial=False)\n",
    "    group_newborn_risks = aggregate_member_level_claims(member_newborn_claims, cust_pred=cust_pred)\n",
    "    group_med_debit = get_group_risk(group_newborn_risks)\n",
    "    smart_diagnosis_filtered = filter_smart_diagnosis_table(smart_diagnosis, iqsubmit)\n",
    "\n",
    "    imminent_table=pd.DataFrame()\n",
    "    imminent_table = get_imminent_treatment_table(member_newborn_claims, \n",
    "                                                  group_newborn_risks)\n",
    "    if not imminent_table.empty:\n",
    "        imminent_table = imminent_table.merge(smart_diagnosis[['signal description', 'cpt_signal' , 'dx_signal']], \n",
    "                                          left_on = 'Signal Description', right_on = 'signal description', how='inner').drop(columns=['signal description'], axis=1)\n",
    "\n",
    "    imminent_table = imminent_table[['Events','Signal Date Range','Full Event Cost','Probability Weighted Cost','Impact to Group Risk Score','Signal Description','cpt_signal','dx_signal']]\n",
    "\n",
    "\n",
    "    imminent_table['cpt_signal'] = \"CPT: \" + imminent_table['cpt_signal'] + \" \"\n",
    "    imminent_table['dx_signal'] = \"ICD: \" + imminent_table['dx_signal'] + \" \"\n",
    "    imminent_table[['cpt_signal','dx_signal']] = imminent_table[['cpt_signal','dx_signal']].fillna(\"\")\n",
    "    imminent_table['Signal Code'] = imminent_table['cpt_signal'] + imminent_table['dx_signal']\n",
    "    imminent_table = imminent_table[(imminent_table['Probability Weighted Cost']>=1000) | (imminent_table['Impact to Group Risk Score']>= 0.01)]\n",
    "    imminent_table = imminent_table.sort_values(\"Probability Weighted Cost\", ascending=False).drop(columns=['cpt_signal','dx_signal'], axis=1)\n",
    "    \n",
    "    if len(iqsubmit)>=10:\n",
    "        print(imminent_table)\n",
    "\n",
    "except:\n",
    "  print(\"Unable to Generate Smart Diagnosis Table: No Diagnosis Data Available \")\n",
    "\n",
    "\n"
   ]
  },
  {
   "cell_type": "code",
   "execution_count": 33,
   "metadata": {},
   "outputs": [
    {
     "data": {
      "text/html": [
       "<div>\n",
       "<style scoped>\n",
       "    .dataframe tbody tr th:only-of-type {\n",
       "        vertical-align: middle;\n",
       "    }\n",
       "\n",
       "    .dataframe tbody tr th {\n",
       "        vertical-align: top;\n",
       "    }\n",
       "\n",
       "    .dataframe thead th {\n",
       "        text-align: right;\n",
       "    }\n",
       "</style>\n",
       "<table border=\"1\" class=\"dataframe\">\n",
       "  <thead>\n",
       "    <tr style=\"text-align: right;\">\n",
       "      <th></th>\n",
       "      <th>Events</th>\n",
       "      <th>Signal Date Range</th>\n",
       "      <th>Full Event Cost</th>\n",
       "      <th>Probability Weighted Cost</th>\n",
       "      <th>Impact to Group Risk Score</th>\n",
       "      <th>Signal Description</th>\n",
       "      <th>Signal Code</th>\n",
       "    </tr>\n",
       "  </thead>\n",
       "  <tbody>\n",
       "    <tr>\n",
       "      <th>0</th>\n",
       "      <td>New born</td>\n",
       "      <td>4-12 Months to UW</td>\n",
       "      <td>10000.0</td>\n",
       "      <td>5882.35293</td>\n",
       "      <td>0.0181</td>\n",
       "      <td>38 WEEKS GESTATION OF PREGNANCY</td>\n",
       "      <td>ICD: Z3A38</td>\n",
       "    </tr>\n",
       "  </tbody>\n",
       "</table>\n",
       "</div>"
      ],
      "text/plain": [
       "     Events  Signal Date Range  Full Event Cost  Probability Weighted Cost  Impact to Group Risk Score               Signal Description  Signal Code\n",
       "0  New born  4-12 Months to UW          10000.0                 5882.35293                      0.0181  38 WEEKS GESTATION OF PREGNANCY  ICD: Z3A38 "
      ]
     },
     "execution_count": 33,
     "metadata": {},
     "output_type": "execute_result"
    }
   ],
   "source": []
  },
  {
   "cell_type": "markdown",
   "metadata": {},
   "source": [
    "# Final Group Score"
   ]
  },
  {
   "cell_type": "code",
   "execution_count": 34,
   "metadata": {},
   "outputs": [],
   "source": [
    "if group_newborn_risks['event_med_debit_rs'].empty:\n",
    "    cust_pred['med_debit_rs']=0\n",
    "else:\n",
    "    cust_pred['med_debit_rs']=group_newborn_risks['event_med_debit_rs']\n",
    "    cust_pred['risk_pfm']=cust_pred['risk_pfm']+cust_pred['med_debit_rs']"
   ]
  },
  {
   "cell_type": "code",
   "execution_count": 35,
   "metadata": {},
   "outputs": [
    {
     "data": {
      "text/html": [
       "<div>\n",
       "<style scoped>\n",
       "    .dataframe tbody tr th:only-of-type {\n",
       "        vertical-align: middle;\n",
       "    }\n",
       "\n",
       "    .dataframe tbody tr th {\n",
       "        vertical-align: top;\n",
       "    }\n",
       "\n",
       "    .dataframe thead th {\n",
       "        text-align: right;\n",
       "    }\n",
       "</style>\n",
       "<table border=\"1\" class=\"dataframe\">\n",
       "  <thead>\n",
       "    <tr style=\"text-align: right;\">\n",
       "      <th></th>\n",
       "      <th>src_rpt_cust_id</th>\n",
       "      <th>underwriting_date</th>\n",
       "      <th>any_xox</th>\n",
       "      <th>any_ixx</th>\n",
       "      <th>any_xxr</th>\n",
       "      <th>any_ior</th>\n",
       "      <th>pfm_calibrated</th>\n",
       "      <th>pred_risk</th>\n",
       "      <th>risk_pfm</th>\n",
       "      <th>rx_debit_rs</th>\n",
       "      <th>med_debit_rs</th>\n",
       "    </tr>\n",
       "  </thead>\n",
       "  <tbody>\n",
       "    <tr>\n",
       "      <th>0</th>\n",
       "      <td>S02D6A</td>\n",
       "      <td>2021-02-03</td>\n",
       "      <td>0.662791</td>\n",
       "      <td>0.5</td>\n",
       "      <td>0.732558</td>\n",
       "      <td>0.837209</td>\n",
       "      <td>315.429727</td>\n",
       "      <td>749.524109</td>\n",
       "      <td>2.39427</td>\n",
       "      <td>0.396285</td>\n",
       "      <td>0.01807</td>\n",
       "    </tr>\n",
       "  </tbody>\n",
       "</table>\n",
       "</div>"
      ],
      "text/plain": [
       "  src_rpt_cust_id underwriting_date   any_xox  any_ixx   any_xxr   any_ior  pfm_calibrated   pred_risk  risk_pfm  rx_debit_rs  med_debit_rs\n",
       "0          S02D6A        2021-02-03  0.662791      0.5  0.732558  0.837209      315.429727  749.524109   2.39427     0.396285       0.01807"
      ]
     },
     "execution_count": 35,
     "metadata": {},
     "output_type": "execute_result"
    }
   ],
   "source": [
    "cust_pred"
   ]
  },
  {
   "cell_type": "code",
   "execution_count": null,
   "metadata": {},
   "outputs": [],
   "source": []
  },
  {
   "cell_type": "code",
   "execution_count": null,
   "metadata": {},
   "outputs": [],
   "source": []
  },
  {
   "cell_type": "code",
   "execution_count": null,
   "metadata": {},
   "outputs": [],
   "source": []
  },
  {
   "cell_type": "code",
   "execution_count": null,
   "metadata": {},
   "outputs": [],
   "source": []
  }
 ],
 "metadata": {
  "kernelspec": {
   "display_name": "Python 3",
   "language": "python",
   "name": "python3"
  },
  "language_info": {
   "codemirror_mode": {
    "name": "ipython",
    "version": 3
   },
   "file_extension": ".py",
   "mimetype": "text/x-python",
   "name": "python",
   "nbconvert_exporter": "python",
   "pygments_lexer": "ipython3",
   "version": "3.6.8"
  }
 },
 "nbformat": 4,
 "nbformat_minor": 2
}
